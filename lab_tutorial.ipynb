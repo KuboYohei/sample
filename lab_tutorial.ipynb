{
  "nbformat": 4,
  "nbformat_minor": 0,
  "metadata": {
    "colab": {
      "provenance": [],
      "authorship_tag": "ABX9TyNi7OZT5xQ3OlAAR9McYUtV",
      "include_colab_link": true
    },
    "kernelspec": {
      "name": "python3",
      "display_name": "Python 3"
    },
    "language_info": {
      "name": "python"
    }
  },
  "cells": [
    {
      "cell_type": "markdown",
      "metadata": {
        "id": "view-in-github",
        "colab_type": "text"
      },
      "source": [
        "<a href=\"https://colab.research.google.com/github/koji-to/sample/blob/master/lab_tutorial.ipynb\" target=\"_parent\"><img src=\"https://colab.research.google.com/assets/colab-badge.svg\" alt=\"Open In Colab\"/></a>"
      ]
    },
    {
      "cell_type": "code",
      "metadata": {
        "colab": {
          "base_uri": "https://localhost:8080/"
        },
        "id": "5g_VlxlLIdLh",
        "outputId": "9cd620ac-962b-478c-ed08-2a6f527d5e72"
      },
      "source": [
        "#毎回winequalityN.csvをアップロードする必要があることを忘れない\n",
        "import pandas as pd\n",
        "import matplotlib as mpl\n",
        "import matplotlib.pyplot as plt\n",
        "import numpy as np\n",
        "\n",
        "data=pd.read_csv('https://raw.githubusercontent.com/reubengazer/Wine-Quality-Analysis/master/winequalityN.csv')\n",
        "#print(data)\n",
        "len(data)"
      ],
      "execution_count": null,
      "outputs": [
        {
          "output_type": "execute_result",
          "data": {
            "text/plain": [
              "6497"
            ]
          },
          "metadata": {},
          "execution_count": 2
        }
      ]
    },
    {
      "cell_type": "code",
      "metadata": {
        "id": "qYPGt0nLPYhH"
      },
      "source": [
        "#from google.colab import drive\n",
        "#drive.mount('/content/drive')"
      ],
      "execution_count": null,
      "outputs": []
    },
    {
      "cell_type": "code",
      "metadata": {
        "colab": {
          "base_uri": "https://localhost:8080/"
        },
        "id": "VNiyU6uWI4IB",
        "outputId": "a15104d9-1ba3-4f22-bc24-55ac5d08e2e4"
      },
      "source": [
        "data_anyna=data.dropna()\n",
        "#data_anyna=data.dropna(how='any')\n",
        "#print(data_anyna)\n",
        "len(data_anyna)"
      ],
      "execution_count": null,
      "outputs": [
        {
          "output_type": "execute_result",
          "data": {
            "text/plain": [
              "6463"
            ]
          },
          "metadata": {},
          "execution_count": 4
        }
      ]
    },
    {
      "cell_type": "code",
      "metadata": {
        "colab": {
          "base_uri": "https://localhost:8080/",
          "height": 513
        },
        "id": "vVnvVbWgI68R",
        "outputId": "455a3a90-cfbc-4148-b366-6ff662dae659"
      },
      "source": [
        "data_anyna.hist()"
      ],
      "execution_count": null,
      "outputs": [
        {
          "output_type": "execute_result",
          "data": {
            "text/plain": [
              "array([[<matplotlib.axes._subplots.AxesSubplot object at 0x7fc57c116ed0>,\n",
              "        <matplotlib.axes._subplots.AxesSubplot object at 0x7fc57c100390>,\n",
              "        <matplotlib.axes._subplots.AxesSubplot object at 0x7fc57c0ba990>],\n",
              "       [<matplotlib.axes._subplots.AxesSubplot object at 0x7fc57c071f90>,\n",
              "        <matplotlib.axes._subplots.AxesSubplot object at 0x7fc57c0345d0>,\n",
              "        <matplotlib.axes._subplots.AxesSubplot object at 0x7fc57bfeabd0>],\n",
              "       [<matplotlib.axes._subplots.AxesSubplot object at 0x7fc57bfae250>,\n",
              "        <matplotlib.axes._subplots.AxesSubplot object at 0x7fc57bf657d0>,\n",
              "        <matplotlib.axes._subplots.AxesSubplot object at 0x7fc57bf65810>],\n",
              "       [<matplotlib.axes._subplots.AxesSubplot object at 0x7fc57bf1bf10>,\n",
              "        <matplotlib.axes._subplots.AxesSubplot object at 0x7fc57be94a50>,\n",
              "        <matplotlib.axes._subplots.AxesSubplot object at 0x7fc57bec0bd0>]],\n",
              "      dtype=object)"
            ]
          },
          "metadata": {},
          "execution_count": 5
        },
        {
          "output_type": "display_data",
          "data": {
            "text/plain": [
              "<Figure size 432x288 with 12 Axes>"
            ],
            "image/png": "[encoded data removed]"
          },
          "metadata": {
            "needs_background": "light"
          }
        }
      ]
    },
    {
      "cell_type": "code",
      "metadata": {
        "colab": {
          "base_uri": "https://localhost:8080/",
          "height": 1000
        },
        "id": "PoMn-EM9JAG2",
        "outputId": "429c1db3-59ab-42ba-f57d-f61aef91f78b"
      },
      "source": [
        "print(data_anyna.columns)\n",
        "for i in data_anyna.columns:\n",
        "    #print(i)\n",
        "    if(i!='type'):\n",
        "        data_anyna.hist(i)\n",
        "#data_anyna.hist('fixed acidity')\n",
        "data_anyna.groupby('type')['quality'].count().plot.bar()\n",
        "#data_anyna.groupby('type').count().plot.bar()"
      ],
      "execution_count": null,
      "outputs": [
        {
          "output_type": "stream",
          "name": "stdout",
          "text": [
            "Index(['type', 'fixed acidity', 'volatile acidity', 'citric acid',\n",
            "       'residual sugar', 'chlorides', 'free sulfur dioxide',\n",
            "       'total sulfur dioxide', 'density', 'pH', 'sulphates', 'alcohol',\n",
            "       'quality'],\n",
            "      dtype='object')\n"
          ]
        },
        {
          "output_type": "execute_result",
          "data": {
            "text/plain": [
              "<matplotlib.axes._subplots.AxesSubplot at 0x7fc57bfb6950>"
            ]
          },
          "metadata": {},
          "execution_count": 6
        },
        {
          "output_type": "display_data",
          "data": {
            "text/plain": [
              "<Figure size 432x288 with 1 Axes>"
            ],
            "image/png": "[encoded data removed]"
          },
          "metadata": {
            "needs_background": "light"
          }
        },
        {
          "output_type": "display_data",
          "data": {
            "text/plain": [
              "<Figure size 432x288 with 1 Axes>"
            ],
            "image/png": "[encoded data removed]"
          },
          "metadata": {
            "needs_background": "light"
          }
        },
        {
          "output_type": "display_data",
          "data": {
            "text/plain": [
              "<Figure size 432x288 with 1 Axes>"
            ],
            "image/png": "[encoded data removed]"
          },
          "metadata": {
            "needs_background": "light"
          }
        },
        {
          "output_type": "display_data",
          "data": {
            "text/plain": [
              "<Figure size 432x288 with 1 Axes>"
            ],
            "image/png": "[encoded data removed]"
          },
          "metadata": {
            "needs_background": "light"
          }
        },
        {
          "output_type": "display_data",
          "data": {
            "text/plain": [
              "<Figure size 432x288 with 1 Axes>"
            ],
            "image/png": "[encoded data removed]"
          },
          "metadata": {
            "needs_background": "light"
          }
        },
        {
          "output_type": "display_data",
          "data": {
            "text/plain": [
              "<Figure size 432x288 with 1 Axes>"
            ],
            "image/png": "[encoded data removed]"
          },
          "metadata": {
            "needs_background": "light"
          }
        },
        {
          "output_type": "display_data",
          "data": {
            "text/plain": [
              "<Figure size 432x288 with 1 Axes>"
            ],
            "image/png": "[encoded data removed]"
          },
          "metadata": {
            "needs_background": "light"
          }
        },
        {
          "output_type": "display_data",
          "data": {
            "text/plain": [
              "<Figure size 432x288 with 1 Axes>"
            ],
            "image/png": "[encoded data removed]"
          },
          "metadata": {
            "needs_background": "light"
          }
        },
        {
          "output_type": "display_data",
          "data": {
            "text/plain": [
              "<Figure size 432x288 with 1 Axes>"
            ],
            "image/png": "[encoded data removed]"
          },
          "metadata": {
            "needs_background": "light"
          }
        },
        {
          "output_type": "display_data",
          "data": {
            "text/plain": [
              "<Figure size 432x288 with 1 Axes>"
            ],
            "image/png": "[encoded data removed]"
          },
          "metadata": {
            "needs_background": "light"
          }
        },
        {
          "output_type": "display_data",
          "data": {
            "text/plain": [
              "<Figure size 432x288 with 1 Axes>"
            ],
            "image/png": "[encoded data removed]"
          },
          "metadata": {
            "needs_background": "light"
          }
        },
        {
          "output_type": "display_data",
          "data": {
            "text/plain": [
              "<Figure size 432x288 with 1 Axes>"
            ],
            "image/png": "[encoded data removed]"
          },
          "metadata": {
            "needs_background": "light"
          }
        }
      ]
    },
    {
      "cell_type": "code",
      "metadata": {
        "colab": {
          "base_uri": "https://localhost:8080/",
          "height": 266
        },
        "id": "Iqr2y3ypJDSW",
        "outputId": "9c40d7f5-f0a8-4990-959b-69f0972eaa67"
      },
      "source": [
        "data_anyna.groupby('type')['quality'].count().plot.pie()"
      ],
      "execution_count": null,
      "outputs": [
        {
          "output_type": "execute_result",
          "data": {
            "text/plain": [
              "<matplotlib.axes._subplots.AxesSubplot at 0x7fc57bd86510>"
            ]
          },
          "metadata": {},
          "execution_count": 7
        },
        {
          "output_type": "display_data",
          "data": {
            "text/plain": [
              "<Figure size 432x288 with 1 Axes>"
            ],
            "image/png": "[encoded data removed]"
          },
          "metadata": {}
        }
      ]
    },
    {
      "cell_type": "code",
      "metadata": {
        "colab": {
          "base_uri": "https://localhost:8080/",
          "height": 533
        },
        "id": "TknmY04sJGOP",
        "outputId": "b97b7997-82ff-402f-dd0d-b8f5a70c891e"
      },
      "source": [
        "## residual sugarに対するMin-Max標準化\n",
        "data_rs=data_anyna['residual sugar']\n",
        "data_rs_mmt=(data_rs - data_rs.min()) / (data_rs.max() - data_rs.min())\n",
        "print(data_rs_mmt)\n",
        "print(data_rs_mmt.max())\n",
        "print(data_rs_mmt.min())\n",
        "\n",
        "data_rs_mmt.hist()"
      ],
      "execution_count": null,
      "outputs": [
        {
          "output_type": "stream",
          "name": "stdout",
          "text": [
            "0       0.308282\n",
            "1       0.015337\n",
            "2       0.096626\n",
            "3       0.121166\n",
            "4       0.121166\n",
            "          ...   \n",
            "6491    0.019939\n",
            "6492    0.021472\n",
            "6494    0.026074\n",
            "6495    0.021472\n",
            "6496    0.046012\n",
            "Name: residual sugar, Length: 6463, dtype: float64\n",
            "1.0\n",
            "0.0\n"
          ]
        },
        {
          "output_type": "execute_result",
          "data": {
            "text/plain": [
              "<matplotlib.axes._subplots.AxesSubplot at 0x7fc57b011510>"
            ]
          },
          "metadata": {},
          "execution_count": 8
        },
        {
          "output_type": "display_data",
          "data": {
            "text/plain": [
              "<Figure size 432x288 with 1 Axes>"
            ],
            "image/png": "[encoded data removed]"
          },
          "metadata": {
            "needs_background": "light"
          }
        }
      ]
    },
    {
      "cell_type": "code",
      "metadata": {
        "colab": {
          "base_uri": "https://localhost:8080/",
          "height": 497
        },
        "id": "spsfhzC7JJnp",
        "outputId": "3730d64c-2791-41bd-ceda-6893dcc8c60c"
      },
      "source": [
        "## residual sugarに対する対数化\n",
        "data_rs_log=data_rs.apply(np.log)\n",
        "print(data_rs_log)\n",
        "\n",
        "data_rs_log.hist()"
      ],
      "execution_count": null,
      "outputs": [
        {
          "output_type": "stream",
          "name": "stdout",
          "text": [
            "0       3.030134\n",
            "1       0.470004\n",
            "2       1.931521\n",
            "3       2.140066\n",
            "4       2.140066\n",
            "          ...   \n",
            "6491    0.641854\n",
            "6492    0.693147\n",
            "6494    0.832909\n",
            "6495    0.693147\n",
            "6496    1.280934\n",
            "Name: residual sugar, Length: 6463, dtype: float64\n"
          ]
        },
        {
          "output_type": "execute_result",
          "data": {
            "text/plain": [
              "<matplotlib.axes._subplots.AxesSubplot at 0x7fc57afb6e10>"
            ]
          },
          "metadata": {},
          "execution_count": 9
        },
        {
          "output_type": "display_data",
          "data": {
            "text/plain": [
              "<Figure size 432x288 with 1 Axes>"
            ],
            "image/png": "[encoded data removed]"
          },
          "metadata": {
            "needs_background": "light"
          }
        }
      ]
    },
    {
      "cell_type": "code",
      "metadata": {
        "colab": {
          "base_uri": "https://localhost:8080/",
          "height": 533
        },
        "id": "UKhlAxtDJMOD",
        "outputId": "1abc74a6-eeb5-4ddd-e339-5161fbce8810"
      },
      "source": [
        "## residual sugarに対するz-score変換\n",
        "data_rs_zs=(data_rs - data_rs.mean()) / data_rs.std()\n",
        "print(data_rs_zs)\n",
        "print(data_rs_zs.mean())\n",
        "print(data_rs_zs.std())\n",
        "\n",
        "data_rs_zs.hist()"
      ],
      "execution_count": null,
      "outputs": [
        {
          "output_type": "stream",
          "name": "stdout",
          "text": [
            "0       3.207172\n",
            "1      -0.808089\n",
            "2       0.306094\n",
            "3       0.642451\n",
            "4       0.642451\n",
            "          ...   \n",
            "6491   -0.745022\n",
            "6492   -0.723999\n",
            "6494   -0.660933\n",
            "6495   -0.723999\n",
            "6496   -0.387643\n",
            "Name: residual sugar, Length: 6463, dtype: float64\n",
            "-5.0845912657411315e-15\n",
            "1.000000000000009\n"
          ]
        },
        {
          "output_type": "execute_result",
          "data": {
            "text/plain": [
              "<matplotlib.axes._subplots.AxesSubplot at 0x7fc57af64a50>"
            ]
          },
          "metadata": {},
          "execution_count": 10
        },
        {
          "output_type": "display_data",
          "data": {
            "text/plain": [
              "<Figure size 432x288 with 1 Axes>"
            ],
            "image/png": "[encoded data removed]"
          },
          "metadata": {
            "needs_background": "light"
          }
        }
      ]
    },
    {
      "cell_type": "code",
      "metadata": {
        "colab": {
          "base_uri": "https://localhost:8080/",
          "height": 283
        },
        "id": "a-5SBvhQKAwW",
        "outputId": "3bea40ee-2863-43a3-f803-0ac6f535af06"
      },
      "source": [
        "data_rs.hist()"
      ],
      "execution_count": null,
      "outputs": [
        {
          "output_type": "execute_result",
          "data": {
            "text/plain": [
              "<matplotlib.axes._subplots.AxesSubplot at 0x7fc57cc60490>"
            ]
          },
          "metadata": {},
          "execution_count": 11
        },
        {
          "output_type": "display_data",
          "data": {
            "text/plain": [
              "<Figure size 432x288 with 1 Axes>"
            ],
            "image/png": "[encoded data removed]"
          },
          "metadata": {
            "needs_background": "light"
          }
        }
      ]
    },
    {
      "cell_type": "code",
      "metadata": {
        "colab": {
          "base_uri": "https://localhost:8080/",
          "height": 283
        },
        "id": "bQEqZNlQK_15",
        "outputId": "70353c57-4c19-4911-8842-c88576f39f50"
      },
      "source": [
        "data_rs_mmt.hist()"
      ],
      "execution_count": null,
      "outputs": [
        {
          "output_type": "execute_result",
          "data": {
            "text/plain": [
              "<matplotlib.axes._subplots.AxesSubplot at 0x7fc57adccc90>"
            ]
          },
          "metadata": {},
          "execution_count": 12
        },
        {
          "output_type": "display_data",
          "data": {
            "text/plain": [
              "<Figure size 432x288 with 1 Axes>"
            ],
            "image/png": "[encoded data removed]"
          },
          "metadata": {
            "needs_background": "light"
          }
        }
      ]
    },
    {
      "cell_type": "code",
      "metadata": {
        "colab": {
          "base_uri": "https://localhost:8080/",
          "height": 283
        },
        "id": "PKpbdjIEK__t",
        "outputId": "247cf09a-8546-4cb3-aa7d-7eed66d26953"
      },
      "source": [
        "data_rs_log.hist()"
      ],
      "execution_count": null,
      "outputs": [
        {
          "output_type": "execute_result",
          "data": {
            "text/plain": [
              "<matplotlib.axes._subplots.AxesSubplot at 0x7fc57ad4be50>"
            ]
          },
          "metadata": {},
          "execution_count": 13
        },
        {
          "output_type": "display_data",
          "data": {
            "text/plain": [
              "<Figure size 432x288 with 1 Axes>"
            ],
            "image/png": "[encoded data removed]"
          },
          "metadata": {
            "needs_background": "light"
          }
        }
      ]
    },
    {
      "cell_type": "code",
      "metadata": {
        "colab": {
          "base_uri": "https://localhost:8080/",
          "height": 283
        },
        "id": "G_Y3m2R2LAK6",
        "outputId": "87232d53-c7f7-481b-be98-3358bc9ba542"
      },
      "source": [
        "data_rs_zs.hist()"
      ],
      "execution_count": null,
      "outputs": [
        {
          "output_type": "execute_result",
          "data": {
            "text/plain": [
              "<matplotlib.axes._subplots.AxesSubplot at 0x7fc57acc9dd0>"
            ]
          },
          "metadata": {},
          "execution_count": 14
        },
        {
          "output_type": "display_data",
          "data": {
            "text/plain": [
              "<Figure size 432x288 with 1 Axes>"
            ],
            "image/png": "[encoded data removed]"
          },
          "metadata": {
            "needs_background": "light"
          }
        }
      ]
    },
    {
      "cell_type": "code",
      "source": [
        "#統計量の算出\n",
        "data_anyna.describe()"
      ],
      "metadata": {
        "id": "g2P8EdULhwbZ"
      },
      "execution_count": null,
      "outputs": []
    },
    {
      "cell_type": "code",
      "metadata": {
        "id": "7FBrEcJSO_Jy"
      },
      "source": [
        "#ダミー変数展開\n",
        "data_anyna_dummy=pd.get_dummies(data_anyna)\n",
        "# 重回帰のインポート\n",
        "from sklearn.linear_model import LinearRegression\n",
        "model=LinearRegression()\n",
        "#データを目的変数とそれ以外に分割\n",
        "Y=data_anyna_dummy['quality']\n",
        "X=data_anyna_dummy.drop('quality', axis=1)\n",
        "# 重回帰モデルの構築\n",
        "model.fit(X, Y)\n",
        "#自己予測\n",
        "Y_pred=model.predict(X)"
      ],
      "execution_count": null,
      "outputs": []
    },
    {
      "cell_type": "code",
      "metadata": {
        "colab": {
          "base_uri": "https://localhost:8080/"
        },
        "id": "PgadnRY0PCZS",
        "outputId": "3ea500f0-3d8c-4e1c-81db-3aec9ce7c094"
      },
      "source": [
        "print('MAE: '+str(abs(Y_pred-Y).mean()))\n",
        "print('MdAE; '+str(abs(Y_pred-Y).median()))\n",
        "print('AE_STD: '+str(abs(Y_pred-Y).std()))\n",
        "print('MRE: '+str(abs((Y_pred-Y)/Y).mean()))\n",
        "print('MdRE: '+str(abs((Y_pred-Y)/Y).median()))\n",
        "print('RE_STD: '+str(abs((Y_pred-Y)/Y).std()))\n",
        "print('MER: '+str(abs((Y_pred-Y)/Y_pred).mean()))\n",
        "print('MdER: '+str(abs((Y_pred-Y)/Y_pred).median()))\n",
        "print('ER_STD: '+str(abs((Y_pred-Y)/Y_pred).std()))"
      ],
      "execution_count": null,
      "outputs": [
        {
          "output_type": "stream",
          "name": "stdout",
          "text": [
            "MAE: 0.5680174198169884\n",
            "MdAE; 0.46122230218907134\n",
            "AE_STD: 0.4614177121908771\n",
            "MRE: 0.10112945562488077\n",
            "MdRE: 0.07967405066758697\n",
            "RE_STD: 0.09663252366903015\n",
            "MER: 0.09772124064082596\n",
            "MdER: 0.07947312370411813\n",
            "ER_STD: 0.07892584470723035\n"
          ]
        }
      ]
    },
    {
      "cell_type": "code",
      "metadata": {
        "id": "-zxjMVbMPJA_"
      },
      "source": [
        "#検証用\n",
        "#np.savetxt('Y_pred.csv',Y_pred)\n",
        "#np.savetxt('Y.csv',Y)"
      ],
      "execution_count": null,
      "outputs": []
    },
    {
      "cell_type": "code",
      "metadata": {
        "id": "SkRRuWOVPEk6"
      },
      "source": [
        "#対数化，Min-Max標準化のためにカテゴリ変数列を一旦除外\n",
        "data_anyna_num_var=data_anyna[data_anyna.columns[data_anyna.columns !='type']]"
      ],
      "execution_count": null,
      "outputs": []
    },
    {
      "cell_type": "code",
      "metadata": {
        "colab": {
          "base_uri": "https://localhost:8080/"
        },
        "id": "BgRYu0whPHLt",
        "outputId": "141c5f7a-f65d-442a-e7d7-e8f5b723c246"
      },
      "source": [
        "#Min-Max標準化を実行\n",
        "minmax_norm=lambda x: (x - min(x)) / (max(x) - min(x))\n",
        "data_anyna_num_var_norm=data_anyna_num_var.apply(minmax_norm)\n",
        "\n",
        "#カテゴリ変数列を元に戻し，ダミー変数展開\n",
        "data_anyna_num_var_norm['type']=data_anyna['type']\n",
        "data_anyna_num_var_norm_dummy=pd.get_dummies(data_anyna_num_var_norm)\n",
        "data_anyna_num_var_norm_dummy['quality'].min()"
      ],
      "execution_count": null,
      "outputs": [
        {
          "output_type": "execute_result",
          "data": {
            "text/plain": [
              "0.0"
            ]
          },
          "metadata": {},
          "execution_count": 19
        }
      ]
    },
    {
      "cell_type": "code",
      "metadata": {
        "id": "L6PAw0S0TJ3Q",
        "colab": {
          "base_uri": "https://localhost:8080/"
        },
        "outputId": "12cda4e2-9030-40a0-9b4d-e25ceadc1fbc"
      },
      "source": [
        "# Min-Max標準化後の重回帰による予測\n",
        "Y=data_anyna_num_var_norm_dummy['quality']\n",
        "X=data_anyna_num_var_norm_dummy.drop('quality', axis=1)\n",
        "# 重回帰モデルの構築\n",
        "model.fit(X, Y)\n",
        "#自己予測\n",
        "Y_pred=model.predict(X)\n",
        "\n",
        "print('MAE: '+str(abs(Y_pred-Y).mean()))\n",
        "print('MdAE; '+str(abs(Y_pred-Y).median()))\n",
        "print('AE_STD: '+str(abs(Y_pred-Y).std()))\n",
        "print('MRE: '+str(abs((Y_pred-Y)/Y).mean()))\n",
        "print('MdRE: '+str(abs((Y_pred-Y)/Y).median()))\n",
        "print('RE_STD: '+str(abs((Y_pred-Y)/Y).std()))\n",
        "#np.savetxt('Y_pred.csv',Y_pred)\n",
        "#np.savetxt('Y.csv',Y)"
      ],
      "execution_count": null,
      "outputs": [
        {
          "output_type": "stream",
          "name": "stdout",
          "text": [
            "MAE: 0.0946695699694981\n",
            "MdAE; 0.07687038369818\n",
            "AE_STD: 0.0769029520318128\n",
            "MRE: inf\n",
            "MdRE: 0.16583253147570348\n",
            "RE_STD: nan\n"
          ]
        }
      ]
    },
    {
      "cell_type": "code",
      "metadata": {
        "id": "AMjKQSqZM0Qy"
      },
      "source": [
        "#Min-Max標準化を元に戻す作業の下準備\n",
        "Y_max=max(data_anyna['quality'])\n",
        "Y_min=min(data_anyna['quality'])\n",
        "Y_mm=data_anyna['quality']"
      ],
      "execution_count": null,
      "outputs": []
    },
    {
      "cell_type": "code",
      "metadata": {
        "id": "wd47I2ATM22F",
        "colab": {
          "base_uri": "https://localhost:8080/"
        },
        "outputId": "8d27ca2f-df99-42b0-86d0-29b4de429e4a"
      },
      "source": [
        "#Min-Max変換の逆変換と結果出力\n",
        "#minmax_norm=lambda x: (x - min(x)) / (max(x) - min(x))\n",
        "#data_anyna_num_var_norm=data_anyna_num_var.apply(minmax_norm)\n",
        "#Y_pred_reverse_mmt=Y_pred.apply(reverse_minmax_norm)\n",
        "Y_pred_reverse_mmt=list(map(lambda x: x * (Y_max - Y_min) + Y_min, Y_pred))\n",
        "\n",
        "print('MAE: '+str(abs(Y_pred_reverse_mmt-Y_mm).mean()))\n",
        "print('MdAE; '+str(abs(Y_pred_reverse_mmt-Y_mm).median()))\n",
        "print('AE_STD: '+str(abs(Y_pred_reverse_mmt-Y_mm).std()))\n",
        "print('MRE: '+str(abs((Y_pred_reverse_mmt-Y_mm)/Y_mm).mean()))\n",
        "print('MdRE: '+str(abs((Y_pred_reverse_mmt-Y_mm)/Y_mm).median()))\n",
        "print('RE_STD: '+str(abs((Y_pred_reverse_mmt-Y_mm)/Y_mm).std()))"
      ],
      "execution_count": null,
      "outputs": [
        {
          "output_type": "stream",
          "name": "stdout",
          "text": [
            "MAE: 0.5680174198169905\n",
            "MdAE; 0.4612223021890802\n",
            "AE_STD: 0.46141771219087707\n",
            "MRE: 0.1011294556248807\n",
            "MdRE: 0.07967405066758682\n",
            "RE_STD: 0.09663252366903038\n"
          ]
        }
      ]
    },
    {
      "cell_type": "code",
      "metadata": {
        "id": "yRB2uPMRXnqg"
      },
      "source": [
        "#対数化を実行後，カテゴリ変数を元に戻し，ダミー変数展開\n",
        "data_anyna_num_var_log=data_anyna_num_var\n",
        "data_anyna_num_var_log=data_anyna_num_var_log+1\n",
        "data_anyna_num_var_log=data_anyna_num_var_log.apply(np.log10)\n",
        "data_anyna_num_var_log['type']=data_anyna['type']\n",
        "data_anyna_num_var_log_dummy=pd.get_dummies(data_anyna_num_var_log)"
      ],
      "execution_count": null,
      "outputs": []
    },
    {
      "cell_type": "code",
      "metadata": {
        "id": "krOyYWzOTp7i",
        "colab": {
          "base_uri": "https://localhost:8080/"
        },
        "outputId": "c5667320-8778-47c9-f192-0cc719d73097"
      },
      "source": [
        "# 対数化後の重回帰による予測\n",
        "Y=data_anyna_num_var_log_dummy['quality']\n",
        "X=data_anyna_num_var_log_dummy.drop('quality', axis=1)\n",
        "Y_log=Y\n",
        "# 重回帰モデルの構築\n",
        "model.fit(X, Y)\n",
        "#自己予測\n",
        "Y_log_pred=model.predict(X)\n",
        "\n",
        "print('MAE: '+str(abs(Y_pred-Y).mean()))\n",
        "print('MdAE; '+str(abs(Y_pred-Y).median()))\n",
        "print('AE_STD: '+str(abs(Y_pred-Y).std()))\n",
        "print('MRE: '+str(abs((Y_pred-Y)/Y).mean()))\n",
        "print('MdRE: '+str(abs((Y_pred-Y)/Y).median()))\n",
        "print('RE_STD: '+str(abs((Y_pred-Y)/Y).std()))"
      ],
      "execution_count": null,
      "outputs": [
        {
          "output_type": "stream",
          "name": "stdout",
          "text": [
            "MAE: 0.3603458375563765\n",
            "MdAE; 0.36168782477914446\n",
            "AE_STD: 0.06817530262598864\n",
            "MRE: 0.43494229656517264\n",
            "MdRE: 0.4367317264722748\n",
            "RE_STD: 0.08275128351454364\n"
          ]
        }
      ]
    },
    {
      "cell_type": "code",
      "metadata": {
        "id": "iExTaBafNEVZ",
        "colab": {
          "base_uri": "https://localhost:8080/"
        },
        "outputId": "80bf66fe-0d1e-4dae-e801-b38c63d3bf04"
      },
      "source": [
        "#対数化をもとに戻して誤差の算出\n",
        "print('MAE: '+str(abs(10**Y_log_pred-10**Y_log).mean()))\n",
        "print('MdAE; '+str(abs(10**Y_log_pred-10**Y_log).median()))\n",
        "print('AE_STD: '+str(abs(10**Y_log_pred-10**Y_log).std()))\n",
        "print('MRE: '+str(abs((10**Y_log_pred-10**Y_log)/10**Y_log).mean()))\n",
        "print('MdRE: '+str(abs((10**Y_log_pred-10**Y_log)/10**Y_log).median()))\n",
        "print('RE_STD: '+str(abs((10**Y_log_pred-10**Y_log)/10**Y_log).std()))"
      ],
      "execution_count": null,
      "outputs": [
        {
          "output_type": "stream",
          "name": "stdout",
          "text": [
            "MAE: 0.5631143660455707\n",
            "MdAE; 0.45158267588226053\n",
            "AE_STD: 0.4617947505009109\n",
            "MRE: 0.08393066812166428\n",
            "MdRE: 0.06745209148519453\n",
            "RE_STD: 0.07531815322909786\n"
          ]
        }
      ]
    },
    {
      "cell_type": "code",
      "metadata": {
        "id": "ososjOkvNHi5",
        "colab": {
          "base_uri": "https://localhost:8080/"
        },
        "outputId": "d834e05a-30cb-4b9d-ac1a-510d7f0fae0f"
      },
      "source": [
        "# 検定\n",
        "# オリジナルデータでの予測結果のMREと対数化データでの予測結果のMREに対してt検定およびwilcoxon検定を実施する\n",
        "from scipy import stats\n",
        "#見やすさのために名前をつける\n",
        "Raw_MRE=abs((Y_pred-Y)/Y)\n",
        "Log_MRE=abs((10**Y_log_pred-10**Y_log)/10**Y_log)\n",
        "\n",
        "#t-test\n",
        "print(stats.ttest_ind(Raw_MRE, Log_MRE,equal_var=True))\n",
        "\n",
        "#wilcoxon test\n",
        "print(stats.wilcoxon(Raw_MRE, Log_MRE,correction=True))\n",
        "print(stats.mannwhitneyu(Raw_MRE, Log_MRE,alternative='two-sided'))"
      ],
      "execution_count": null,
      "outputs": [
        {
          "output_type": "stream",
          "name": "stdout",
          "text": [
            "Ttest_indResult(statistic=252.18893442528454, pvalue=0.0)\n",
            "WilcoxonResult(statistic=113241.0, pvalue=0.0)\n",
            "MannwhitneyuResult(statistic=41450220.0, pvalue=0.0)\n"
          ]
        }
      ]
    },
    {
      "cell_type": "code",
      "metadata": {
        "id": "WIK86ebKTpFG"
      },
      "source": [
        "#対数化を実行後，カテゴリ変数を元に戻し，ダミー変数展開\n",
        "data_anyna_num_var_log=data_anyna_num_var\n",
        "#0は対数化できないので+1してごまかす\n",
        "data_anyna_num_var_log=data_anyna_num_var_log+1\n",
        "data_anyna_num_var_log=data_anyna_num_var_log.apply(np.log10)\n",
        "data_anyna_num_var_log['type']=data_anyna['type']\n",
        "data_anyna_num_var_log_dummy=pd.get_dummies(data_anyna_num_var_log)"
      ],
      "execution_count": null,
      "outputs": []
    },
    {
      "cell_type": "code",
      "metadata": {
        "id": "oek_vg-zc6os",
        "colab": {
          "base_uri": "https://localhost:8080/"
        },
        "outputId": "5bf34f9a-df3c-46fa-f27f-559513c099a5"
      },
      "source": [
        "# typeの判別を行う\n",
        "# CARTのインポート\n",
        "from sklearn import tree\n",
        "class_model=tree.DecisionTreeClassifier(max_depth=3)\n",
        "#データを目的変数とそれ以外に分割\n",
        "Y=data_anyna['type']\n",
        "X=data_anyna.drop('type', axis=1)\n",
        "# 判別モデルの構築\n",
        "c_model=class_model.fit(X, Y)\n",
        "#自己予測\n",
        "Y_pred=c_model.predict(X)\n",
        "Y_pred"
      ],
      "execution_count": null,
      "outputs": [
        {
          "output_type": "execute_result",
          "data": {
            "text/plain": [
              "array(['white', 'white', 'white', ..., 'red', 'red', 'red'], dtype=object)"
            ]
          },
          "metadata": {},
          "execution_count": 28
        }
      ]
    },
    {
      "cell_type": "code",
      "metadata": {
        "id": "vooYioW5c-c2",
        "colab": {
          "base_uri": "https://localhost:8080/"
        },
        "outputId": "a30a986f-8a4d-4be3-eded-eed225753f41"
      },
      "source": [
        "#混同行列（Confusion Matrix）の作成\n",
        "from sklearn.metrics import confusion_matrix\n",
        "print(confusion_matrix(Y,Y_pred))\n",
        "#赤を予測した結果っぽい\n",
        "labels, uniques = pd.factorize(Y)\n",
        "print(labels)\n",
        "print(uniques)"
      ],
      "execution_count": null,
      "outputs": [
        {
          "output_type": "stream",
          "name": "stdout",
          "text": [
            "[[1484  109]\n",
            " [  54 4816]]\n",
            "[0 0 0 ... 1 1 1]\n",
            "Index(['white', 'red'], dtype='object')\n"
          ]
        }
      ]
    },
    {
      "cell_type": "code",
      "metadata": {
        "id": "hN00zD32c_4a",
        "colab": {
          "base_uri": "https://localhost:8080/"
        },
        "outputId": "8627bc7f-88f2-48a0-bf9e-3fcb6f151733"
      },
      "source": [
        "# 適合率，再現率，F1値の算出\n",
        "from sklearn.metrics import precision_score, recall_score, f1_score\n",
        "print('赤の適合率: ',precision_score(Y,Y_pred,pos_label='red'))\n",
        "print('赤の再現率: ',recall_score(Y,Y_pred,pos_label='red'))\n",
        "print('赤のF1値: ',f1_score(Y,Y_pred,pos_label='red'))\n",
        "print('白の適合率: ',precision_score(Y,Y_pred,pos_label='white'))\n",
        "print('白の再現率: ',recall_score(Y,Y_pred,pos_label='white'))\n",
        "print('白のF1値: ',f1_score(Y,Y_pred,pos_label='white'))"
      ],
      "execution_count": null,
      "outputs": [
        {
          "output_type": "stream",
          "name": "stdout",
          "text": [
            "赤の適合率:  0.9648894668400521\n",
            "赤の再現率:  0.9315756434400502\n",
            "赤のF1値:  0.9479399552858512\n",
            "白の適合率:  0.9778680203045685\n",
            "白の再現率:  0.988911704312115\n",
            "白のF1値:  0.9833588565594692\n"
          ]
        }
      ]
    },
    {
      "cell_type": "code",
      "metadata": {
        "id": "6eI7fQCEdB6K",
        "colab": {
          "base_uri": "https://localhost:8080/"
        },
        "outputId": "61040781-e2e6-44d8-8b10-fa9c48007aa7"
      },
      "source": [
        "# 確信度の算出\n",
        "Y_prob=c_model.predict_proba(X)\n",
        "print(Y_prob)\n",
        "print(Y_pred)\n",
        "print(Y)"
      ],
      "execution_count": null,
      "outputs": [
        {
          "output_type": "stream",
          "name": "stdout",
          "text": [
            "[[0.00963222 0.99036778]\n",
            " [0.00963222 0.99036778]\n",
            " [0.00963222 0.99036778]\n",
            " ...\n",
            " [0.9896249  0.0103751 ]\n",
            " [0.9896249  0.0103751 ]\n",
            " [0.9896249  0.0103751 ]]\n",
            "['white' 'white' 'white' ... 'red' 'red' 'red']\n",
            "0       white\n",
            "1       white\n",
            "2       white\n",
            "3       white\n",
            "4       white\n",
            "        ...  \n",
            "6491      red\n",
            "6492      red\n",
            "6494      red\n",
            "6495      red\n",
            "6496      red\n",
            "Name: type, Length: 6463, dtype: object\n"
          ]
        }
      ]
    },
    {
      "cell_type": "code",
      "metadata": {
        "colab": {
          "base_uri": "https://localhost:8080/"
        },
        "id": "3JmklFweYxSM",
        "outputId": "4b274d7a-7a07-40a1-c55d-1bc39a0cec89"
      },
      "source": [
        "from sklearn.metrics import roc_auc_score\n",
        "roc_auc_score(Y, Y_prob[:,1])"
      ],
      "execution_count": null,
      "outputs": [
        {
          "output_type": "execute_result",
          "data": {
            "text/plain": [
              "0.9819665348012545"
            ]
          },
          "metadata": {},
          "execution_count": 32
        }
      ]
    },
    {
      "cell_type": "code",
      "metadata": {
        "id": "J98DmxP9ZZ9E"
      },
      "source": [
        "# 10-fold cross validation\n",
        "#パッケージを使うほう\n",
        "from sklearn.model_selection import KFold\n",
        "kf = KFold(n_splits = 10, shuffle = True)\n",
        "df=[]\n",
        "for train_index, test_index in kf.split(X, Y):\n",
        "    df.append([X.iloc[train_index],Y.iloc[train_index],X.iloc[test_index],Y.iloc[test_index]])"
      ],
      "execution_count": null,
      "outputs": []
    },
    {
      "cell_type": "code",
      "metadata": {
        "id": "vJhqi9aiQrBV"
      },
      "source": [
        "# 10-fold cross validation\n",
        "rand_data_anyna_dummy=data_anyna_dummy.sample(frac=1)\n",
        "#自前作成\n",
        "kfold=10\n",
        "##n=10で割った商と余りの取得\n",
        "q, mod=divmod(len(data_anyna_dummy),kfold)\n",
        "nfold_index=np.tile(np.arange(kfold),q)\n",
        "nfold_index=np.append(nfold_index,np.arange(mod))\n",
        "rand_data_anyna_dummy['nfold']=nfold_index\n",
        "nfold_data=[]\n",
        "for i in range(0,kfold):\n",
        "    nfold_data.append([rand_data_anyna_dummy[rand_data_anyna_dummy['nfold']==i].drop('nfold',axis=1),\n",
        "                      rand_data_anyna_dummy[rand_data_anyna_dummy['nfold']!=i].drop('nfold',axis=1)])\n",
        "#nfold_data[n][1]: fit\n",
        "#nfold_data[n][0]: test\n",
        "#nfold_data[5][1]"
      ],
      "execution_count": null,
      "outputs": []
    },
    {
      "cell_type": "code",
      "metadata": {
        "id": "xrAnATvwir2I",
        "colab": {
          "base_uri": "https://localhost:8080/"
        },
        "outputId": "ccdf65a1-7b3d-4601-d0ac-ac2f75ae3577"
      },
      "source": [
        "#10-fold cross validationを用いて決定木でワインが赤か白かを予測する\n",
        "\n",
        "# 10-fold cross validation\n",
        "rand_data_anyna=data_anyna.sample(frac=1)\n",
        "#自前作成\n",
        "kfold=10\n",
        "##n=10で割った商と余りの取得\n",
        "q, mod=divmod(len(data_anyna_dummy),kfold)\n",
        "nfold_index=np.tile(np.arange(kfold),q)\n",
        "nfold_index=np.append(nfold_index,np.arange(mod))\n",
        "rand_data_anyna['nfold']=nfold_index\n",
        "nfold_data=[]\n",
        "for i in range(0,kfold):\n",
        "    nfold_data.append([rand_data_anyna[rand_data_anyna['nfold']==i].drop('nfold',axis=1),\n",
        "                      rand_data_anyna[rand_data_anyna['nfold']!=i].drop('nfold',axis=1)])\n",
        "    \n",
        "#パッケージを使う場合は以下の通り\n",
        "#from sklearn.model_selection import KFold\n",
        "#kf = KFold(n_splits = 10, shuffle = True)\n",
        "#df=[]\n",
        "#for train_index, test_index in kf.split(X, Y):\n",
        "#    df.append([X.iloc[train_index],Y.iloc[train_index],X.iloc[test_index],Y.iloc[test_index]])\n",
        "    \n",
        "# typeの判別を行う\n",
        "# CARTのインポート\n",
        "from sklearn import tree\n",
        "class_model=tree.DecisionTreeClassifier(max_depth=3)\n",
        "#データを目的変数とそれ以外に分割\n",
        "#nfold_data[n][1]: fit\n",
        "#nfold_data[n][0]: test\n",
        "Y_pred=[]\n",
        "Y_test=[]\n",
        "for i_th_data in nfold_data:\n",
        "    #分割\n",
        "    X_fit=i_th_data[1].drop('type', axis=1)\n",
        "    Y_fit=i_th_data[1]['type']    \n",
        "    X_test=i_th_data[0].drop('type', axis=1)\n",
        "    #appendではループごとにリストが分割される\n",
        "    Y_test.extend(i_th_data[0]['type'])\n",
        "    #パッケージを使う場合には以下の通り\n",
        "    #i_th_data in df \n",
        "    #X_fit=i_th_data[0]\n",
        "    #Y_fit=i_th_data[1]\n",
        "    #X_test=i_th_data[2]\n",
        "    #Y_test.extend(i_th_data[3])\n",
        "\n",
        "    # 判別モデルの構築\n",
        "    c_model=class_model.fit(X_fit, Y_fit)\n",
        "    #自己予測\n",
        "    Y_pred.extend(c_model.predict(X_test))\n",
        "# 適合率，再現率，F1値の算出\n",
        "from sklearn.metrics import precision_score, recall_score, f1_score\n",
        "print('赤の適合率: ',precision_score(Y_test,Y_pred,pos_label='red'))\n",
        "print('赤の再現率: ',recall_score(Y_test,Y_pred,pos_label='red'))\n",
        "print('赤のF1値: ',f1_score(Y_test,Y_pred,pos_label='red'))\n",
        "print('白の適合率: ',precision_score(Y_test,Y_pred,pos_label='white'))\n",
        "print('白の再現率: ',recall_score(Y_test,Y_pred,pos_label='white'))\n",
        "print('白のF1値: ',f1_score(Y_test,Y_pred,pos_label='white'))\n"
      ],
      "execution_count": null,
      "outputs": [
        {
          "output_type": "stream",
          "name": "stdout",
          "text": [
            "赤の適合率:  0.9546035805626598\n",
            "赤の再現率:  0.9372253609541745\n",
            "赤のF1値:  0.9458346531517263\n",
            "白の適合率:  0.9795876709532557\n",
            "白の再現率:  0.9854209445585216\n",
            "白のF1値:  0.9824956495035316\n"
          ]
        }
      ]
    },
    {
      "cell_type": "code",
      "source": [
        "import pandas as pd\n",
        "import matplotlib as mpl\n",
        "import matplotlib.pyplot as plt\n",
        "import numpy as np\n",
        "import scipy.stats as stats\n",
        "\n",
        "from sklearn.linear_model import LinearRegression\n",
        "lm=LinearRegression()\n",
        "\n",
        "from sklearn.model_selection import KFold\n",
        "k=10\n",
        "kf = KFold(n_splits = k, shuffle = True)\n",
        "\n",
        "from sklearn.ensemble import RandomForestRegressor\n",
        "rf = RandomForestRegressor()\n",
        "\n",
        "data=pd.read_csv('winequalityN.csv')\n",
        "data=data.dropna()\n",
        "\n",
        "df=[]\n",
        "Y_act=[]\n",
        "Y_pred=[]\n",
        "\n",
        "for preproc in ['raw','log']:\n",
        "    for pred_meth in ['lm','rf']:        \n",
        "        if(preproc=='log'):\n",
        "            #対数化のためにカテゴリ変数列を一旦除外\n",
        "            data_temp=data.drop('type',axis=1)\n",
        "            #対数化を実行後，カテゴリ変数を元に戻す\n",
        "            data_temp=data_temp+1\n",
        "            data_temp=data_temp.apply(np.log10)\n",
        "            data_temp['type']=data['type']\n",
        "            learn=data_temp\n",
        "        else:\n",
        "            learn=data\n",
        "        \n",
        "        #ダミー変数展開\n",
        "        learn=pd.get_dummies(learn)\n",
        "        #従属変数と独立変数に分離\n",
        "        X=learn.drop('quality',axis=1)\n",
        "        Y=learn['quality']\n",
        "            \n",
        "        #予測の実施\n",
        "        for train_index, test_index in kf.split(X, Y):\n",
        "            df.append([X.iloc[train_index],Y.iloc[train_index],X.iloc[test_index],Y.iloc[test_index]])\n",
        "            if(pred_meth=='lm'):\n",
        "                fit_model=lm.fit(df[0][0],df[0][1])\n",
        "                pred=fit_model.predict(df[0][2])\n",
        "                Y_act.extend(df[0][3])\n",
        "                Y_pred.extend(pred)\n",
        "            elif(pred_meth=='rf'):\n",
        "                fit_model=rf.fit(df[0][0],df[0][1])\n",
        "                pred=fit_model.predict(df[0][2])\n",
        "                Y_act.extend(df[0][3])\n",
        "                Y_pred.extend(pred)\n",
        "\n",
        "            #この初期化はいらんかもしれん\n",
        "        fname=preproc+'_'+pred_meth+'.csv'\n",
        "        pd.DataFrame(zip(Y_act,Y_pred),columns=['Act','Pred']).to_csv(fname,index=False)\n",
        "        Y_act=[]\n",
        "        Y_pred=[]\n",
        "#df[n][0]: fitの従属変数\n",
        "#df[n][1]: fitの目的変数\n",
        "#df[n][2]: testの従属変数\n",
        "#df[n][3]: testの目的変数 "
      ],
      "metadata": {
        "id": "VSZFgvSdXEUK"
      },
      "execution_count": null,
      "outputs": []
    },
    {
      "cell_type": "code",
      "source": [
        "import scikit_posthocs as sp\n",
        "\n",
        "mre_df=pd.DataFrame()\n",
        "for preproc in ['raw','log']:\n",
        "    for pred_meth in ['lm','rf']:\n",
        "        col_name=preproc+'_'+pred_meth\n",
        "        data=pd.read_csv(col_name+'.csv')        \n",
        "        mre=abs((data['Act']-data['Pred'])/data['Act'])\n",
        "        mre=pd.DataFrame(mre)\n",
        "        mre.columns=[col_name]\n",
        "        mre=mre.melt(var_name='groups',value_name='values')\n",
        "        #mre['groups']=col_name\n",
        "        mre_df=pd.concat([mre_df,mre],axis=0)"
      ],
      "metadata": {
        "id": "UY91geAsbFtG",
        "colab": {
          "base_uri": "https://localhost:8080/",
          "height": 387
        },
        "outputId": "e8fbbc01-2d65-404a-9376-d2f51df25689"
      },
      "execution_count": null,
      "outputs": [
        {
          "output_type": "error",
          "ename": "ModuleNotFoundError",
          "evalue": "ignored",
          "traceback": [
            "\u001b[0;31m---------------------------------------------------------------------------\u001b[0m",
            "\u001b[0;31mModuleNotFoundError\u001b[0m                       Traceback (most recent call last)",
            "\u001b[0;32m<ipython-input-37-38fed1facd84>\u001b[0m in \u001b[0;36m<module>\u001b[0;34m()\u001b[0m\n\u001b[0;32m----> 1\u001b[0;31m \u001b[0;32mimport\u001b[0m \u001b[0mscikit_posthocs\u001b[0m \u001b[0;32mas\u001b[0m \u001b[0msp\u001b[0m\u001b[0;34m\u001b[0m\u001b[0;34m\u001b[0m\u001b[0m\n\u001b[0m\u001b[1;32m      2\u001b[0m \u001b[0;34m\u001b[0m\u001b[0m\n\u001b[1;32m      3\u001b[0m \u001b[0mmre_df\u001b[0m\u001b[0;34m=\u001b[0m\u001b[0mpd\u001b[0m\u001b[0;34m.\u001b[0m\u001b[0mDataFrame\u001b[0m\u001b[0;34m(\u001b[0m\u001b[0;34m)\u001b[0m\u001b[0;34m\u001b[0m\u001b[0;34m\u001b[0m\u001b[0m\n\u001b[1;32m      4\u001b[0m \u001b[0;32mfor\u001b[0m \u001b[0mpreproc\u001b[0m \u001b[0;32min\u001b[0m \u001b[0;34m[\u001b[0m\u001b[0;34m'raw'\u001b[0m\u001b[0;34m,\u001b[0m\u001b[0;34m'log'\u001b[0m\u001b[0;34m]\u001b[0m\u001b[0;34m:\u001b[0m\u001b[0;34m\u001b[0m\u001b[0;34m\u001b[0m\u001b[0m\n\u001b[1;32m      5\u001b[0m     \u001b[0;32mfor\u001b[0m \u001b[0mpred_meth\u001b[0m \u001b[0;32min\u001b[0m \u001b[0;34m[\u001b[0m\u001b[0;34m'lm'\u001b[0m\u001b[0;34m,\u001b[0m\u001b[0;34m'rf'\u001b[0m\u001b[0;34m]\u001b[0m\u001b[0;34m:\u001b[0m\u001b[0;34m\u001b[0m\u001b[0;34m\u001b[0m\u001b[0m\n",
            "\u001b[0;31mModuleNotFoundError\u001b[0m: No module named 'scikit_posthocs'",
            "",
            "\u001b[0;31m---------------------------------------------------------------------------\u001b[0;32m\nNOTE: If your import is failing due to a missing package, you can\nmanually install dependencies using either !pip or !apt.\n\nTo view examples of installing some common dependencies, click the\n\"Open Examples\" button below.\n\u001b[0;31m---------------------------------------------------------------------------\u001b[0m\n"
          ],
          "errorDetails": {
            "actions": [
              {
                "action": "open_url",
                "actionText": "Open Examples",
                "url": "/notebooks/snippets/importing_libraries.ipynb"
              }
            ]
          }
        }
      ]
    },
    {
      "cell_type": "code",
      "source": [
        "from sklearn.experimental import enable_iterative_imputer  # 本当におまじない\n",
        "from sklearn.impute import IterativeImputer  # 使うのこっち\n",
        "imp_mean = IterativeImputer(random_state=0)\n",
        "data_dummy=pd.get_dummies(data)\n",
        "imp_mean.fit(data_dummy)\n",
        "#IterativeImputer(random_state=0)\n",
        "imp_mean.transform(data_dummy)"
      ],
      "metadata": {
        "id": "LfAbyIMm4M5x"
      },
      "execution_count": null,
      "outputs": []
    },
    {
      "cell_type": "code",
      "source": [
        "inter_quartile_range=(data_anyna['fixed acidity'].quantile(0.75)-data_anyna['fixed acidity'].quantile(0.25))\n",
        "upper_outlier=data_anyna['fixed acidity'].quantile(0.75)+1.5*inter_quartile_range\n",
        "lower_outlier=data_anyna['fixed acidity'].quantile(0.25)-1.5*inter_quartile_range\n",
        "print(upper_outlier)\n",
        "print(lower_outlier)"
      ],
      "metadata": {
        "id": "dnN_Rca74Njh"
      },
      "execution_count": null,
      "outputs": []
    },
    {
      "cell_type": "code",
      "source": [
        "data_anyna[(upper_outlier>data_anyna[\"fixed acidity\"])&(lower_outlier<data_anyna[\"fixed acidity\"])]"
      ],
      "metadata": {
        "id": "8qU2hK4E4PuA"
      },
      "execution_count": null,
      "outputs": []
    },
    {
      "cell_type": "code",
      "source": [
        "data_anyna.query('@upper_outlier > `fixed acidity` > @lower_outlier')"
      ],
      "metadata": {
        "id": "lcssUOla4RGX"
      },
      "execution_count": null,
      "outputs": []
    },
    {
      "cell_type": "code",
      "source": [
        "data=pd.read_csv('commit_log.csv')\n",
        "data=data.dropna()\n",
        "data"
      ],
      "metadata": {
        "id": "OgfpKP2d4TDJ"
      },
      "execution_count": null,
      "outputs": []
    },
    {
      "cell_type": "code",
      "source": [
        "print(data['auth_mail'].nunique())\n",
        "print(data['comm_mail'].nunique())\n",
        "print(data['auth_mail'].nunique()*data['comm_mail'].nunique())"
      ],
      "metadata": {
        "id": "BI3mXO_N4VXJ"
      },
      "execution_count": null,
      "outputs": []
    },
    {
      "cell_type": "code",
      "source": [
        "data=pd.read_csv('commit_log.csv')\n",
        "data=data.dropna()\n",
        "unique_auth_mails=data['auth_mail'].unique()\n",
        "unique_comm_mails=data['comm_mail'].unique()\n",
        "for unique_auth_mail in unique_auth_mails:\n",
        "    for unique_comm_mail in unique_comm_mails:\n",
        "        print(len(data.query('auth_mail== @unique_auth_mail & comm_mail== @unique_comm_mail ')))"
      ],
      "metadata": {
        "id": "Y4Eqxhd54YOg"
      },
      "execution_count": null,
      "outputs": []
    },
    {
      "cell_type": "code",
      "source": [
        "data=pd.read_csv('commit_log.csv')\n",
        "data=data.dropna()\n",
        "while(len(data)>0):\n",
        "    unique_auth_mail=data.iat[0,1]\n",
        "    unique_comm_mail=data.iat[0,3]\n",
        "    data_temp=data.query('auth_mail== @unique_auth_mail & comm_mail== @unique_comm_mail ')\n",
        "    data=data.query('auth_mail!= @unique_auth_mail | comm_mail!= @unique_comm_mail ')\n",
        "    print(len(data_temp))"
      ],
      "metadata": {
        "id": "eR2XeR024Z-5"
      },
      "execution_count": null,
      "outputs": []
    },
    {
      "cell_type": "code",
      "source": [
        "data=pd.read_csv('commit_log.csv')\n",
        "data=data.dropna()\n",
        "data.groupby(['auth_mail','comm_mail']).size().reset_index().rename(columns={0:'count'})\n",
        "# https://stackoverflow.com/questions/35268817/unique-combinations-of-values-in-selected-columns-in-pandas-data-frame-and-count?rq=1\n",
        "\n",
        "\n",
        "#^([0-9]{2})([A-Z])([0-9]{4})\n",
        "#s$1\\l$2$3@bene.fit.ac.jp\n",
        "\n",
        "#before\n",
        "#11A1111\n",
        "\n",
        "\n",
        "#after\n",
        "#s11a1111@bene.fit.ac.jp"
      ],
      "metadata": {
        "id": "b-aFW-774bjo"
      },
      "execution_count": null,
      "outputs": []
    }
  ]
}